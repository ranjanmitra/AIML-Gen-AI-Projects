{
 "cells": [
  {
   "cell_type": "markdown",
   "metadata": {},
   "source": [
    "Proprietary content. ©Great Learning. All Rights Reserved. Unauthorized use or distribution prohibited"
   ]
  },
  {
   "cell_type": "code",
   "execution_count": 1,
   "metadata": {},
   "outputs": [
    {
     "name": "stdout",
     "output_type": "stream",
     "text": [
      "Collecting sklearn\n",
      "  Using cached sklearn-0.0.tar.gz (1.1 kB)\n",
      "Requirement already satisfied: scikit-learn in d:\\programs\\anaconda3\\lib\\site-packages (from sklearn) (1.0.1)\n",
      "Requirement already satisfied: threadpoolctl>=2.0.0 in d:\\programs\\anaconda3\\lib\\site-packages (from scikit-learn->sklearn) (2.1.0)\n",
      "Requirement already satisfied: scipy>=1.1.0 in d:\\programs\\anaconda3\\lib\\site-packages (from scikit-learn->sklearn) (1.5.2)\n",
      "Requirement already satisfied: numpy>=1.14.6 in d:\\programs\\anaconda3\\lib\\site-packages (from scikit-learn->sklearn) (1.22.2)\n",
      "Requirement already satisfied: joblib>=0.11 in d:\\programs\\anaconda3\\lib\\site-packages (from scikit-learn->sklearn) (0.17.0)\n",
      "Building wheels for collected packages: sklearn\n",
      "  Building wheel for sklearn (setup.py): started\n",
      "  Building wheel for sklearn (setup.py): finished with status 'done'\n",
      "  Created wheel for sklearn: filename=sklearn-0.0-py2.py3-none-any.whl size=1321 sha256=a4936b9613bb66b914ead8488274ec64b038b3b952f757cc15e3be86ccb95a9a\n",
      "  Stored in directory: c:\\users\\ranjan mitra\\appdata\\local\\pip\\cache\\wheels\\22\\0b\\40\\fd3f795caaa1fb4c6cb738bc1f56100be1e57da95849bfc897\n",
      "Successfully built sklearn\n",
      "Installing collected packages: sklearn\n",
      "Successfully installed sklearn-0.0\n",
      "Note: you may need to restart the kernel to use updated packages.\n"
     ]
    }
   ],
   "source": [
    "pip install sklearn"
   ]
  },
  {
   "cell_type": "code",
   "execution_count": 4,
   "metadata": {},
   "outputs": [
    {
     "name": "stderr",
     "output_type": "stream",
     "text": [
      "[nltk_data] Downloading package stopwords to C:\\Users\\Ranjan\n",
      "[nltk_data]     Mitra\\AppData\\Roaming\\nltk_data...\n",
      "[nltk_data]   Package stopwords is already up-to-date!\n",
      "[nltk_data] Downloading package punkt to C:\\Users\\Ranjan\n",
      "[nltk_data]     Mitra\\AppData\\Roaming\\nltk_data...\n",
      "[nltk_data]   Package punkt is already up-to-date!\n",
      "[nltk_data] Downloading package wordnet to C:\\Users\\Ranjan\n",
      "[nltk_data]     Mitra\\AppData\\Roaming\\nltk_data...\n",
      "[nltk_data]   Package wordnet is already up-to-date!\n"
     ]
    },
    {
     "data": {
      "text/plain": [
       "True"
      ]
     },
     "execution_count": 4,
     "metadata": {},
     "output_type": "execute_result"
    }
   ],
   "source": [
    "\n",
    "import re, string, unicodedata                          # Import Regex, string and unicodedata.\n",
    "import contractions                                     # Import contractions library.\n",
    "from bs4 import BeautifulSoup                           # Import BeautifulSoup.\n",
    "\n",
    "import numpy as np                                      # Import numpy.\n",
    "import pandas as pd                                     # Import pandas.\n",
    "import nltk                                             # Import Natural Language Tool-Kit.\n",
    "\n",
    "nltk.download('stopwords')                              # Download Stopwords.\n",
    "nltk.download('punkt')\n",
    "nltk.download('wordnet')\n"
   ]
  },
  {
   "cell_type": "code",
   "execution_count": 30,
   "metadata": {},
   "outputs": [
    {
     "name": "stdout",
     "output_type": "stream",
     "text": [
      "{'again': 0, 'and': 1, 'first': 2, 'is': 3, 'it': 4, 'of': 5, 'one': 6, 'qualification': 7, 'second': 8, 'stage': 9, 'the': 10, 'this': 11}\n",
      "(4, 12)\n",
      "<class 'scipy.sparse.csr.csr_matrix'>\n",
      "[[0 0 1 1 0 1 0 1 0 1 1 1]\n",
      " [0 0 0 1 0 1 0 1 1 1 1 1]\n",
      " [0 1 0 0 0 0 1 0 0 0 1 0]\n",
      " [1 0 1 1 1 0 0 0 0 1 1 0]]\n",
      "vectorizer.get_feature_names(): ['again', 'and', 'first', 'is', 'it', 'of', 'one', 'qualification', 'second', 'stage', 'the', 'this']\n"
     ]
    }
   ],
   "source": [
    "from sklearn.feature_extraction.text import CountVectorizer\n",
    "# list of text documents\n",
    "text = ['This is the first stage of qualification'\n",
    ", 'This is the second stage of qualification '\n",
    ", 'And the third one'\n",
    ", 'Is it the first stage again']\n",
    "# create the transform\n",
    "myvocab={'again': 0, 'and': 1, 'first': 2, 'is': 3, 'it': 4, 'of': 5, 'one': 6, 'qualification': 7, 'second': 8, 'stage': 9, 'the': 10, 'this': 11}\n",
    "vectorizer = CountVectorizer(analyzer='word', binary=False, decode_error='strict',\n",
    "dtype=np.int64, encoding='utf-8', input='content',\n",
    "lowercase=True, max_df=1.0, max_features=5, min_df=1,\n",
    "ngram_range=(1, 1), preprocessor=None, stop_words=None,\n",
    "strip_accents=None, token_pattern='(?u)\\\\b\\\\w\\\\w+\\\\b',\n",
    "tokenizer=None, vocabulary=myvocab)\n",
    "## all_features = vectorizer.get_feature_names() \n",
    "# tokenize and build vocab\n",
    "vectorizer.fit(text)\n",
    "# summarize\n",
    "print(vectorizer.vocabulary_)\n",
    "# encode document\n",
    "vector = vectorizer.transform(text)\n",
    "# summarize encoded vector\n",
    "print(vector.shape)\n",
    "print(type(vector))\n",
    "print(vector.toarray())\n",
    "print('vectorizer.get_feature_names(): {0}'.format(vectorizer.get_feature_names()))\n"
   ]
  },
  {
   "cell_type": "markdown",
   "metadata": {},
   "source": [
    "# encode another document\n",
    "text2 = [\"passion fruit is a vine species of passion flower\"]\n",
    "vector = vectorizer.transform(text2)\n",
    "print(vector.toarray())\n",
    "print(vector.shape)"
   ]
  },
  {
   "cell_type": "code",
   "execution_count": 32,
   "metadata": {},
   "outputs": [
    {
     "name": "stdout",
     "output_type": "stream",
     "text": [
      "{'this': 12, 'is': 3, 'the': 10, 'first': 2, 'stage': 9, 'of': 5, 'qualification': 7, 'second': 8, 'and': 1, 'third': 11, 'one': 6, 'it': 4, 'again': 0}\n",
      "[1.91629073 1.91629073 1.51082562 1.22314355 1.91629073 1.51082562\n",
      " 1.91629073 1.51082562 1.91629073 1.22314355 1.         1.91629073\n",
      " 1.51082562]\n",
      "{'again': 1.916290731874155, 'and': 1.916290731874155, 'first': 1.5108256237659907, 'is': 1.2231435513142097, 'it': 1.916290731874155, 'of': 1.5108256237659907, 'one': 1.916290731874155, 'qualification': 1.5108256237659907, 'second': 1.916290731874155, 'stage': 1.2231435513142097, 'the': 1.0, 'third': 1.916290731874155, 'this': 1.5108256237659907}\n",
      "(1, 13)\n",
      "[[0.         0.         0.41706663 0.33765138 0.         0.41706663\n",
      "  0.         0.41706663 0.         0.33765138 0.27605213 0.\n",
      "  0.41706663]]\n"
     ]
    }
   ],
   "source": [
    "from sklearn.feature_extraction.text import TfidfVectorizer\n",
    "# list of text documents\n",
    "text = ['This is the first stage of qualification'\n",
    ", 'This is the second stage of qualification '\n",
    ", 'And the third one'\n",
    ", 'Is it the first stage again']\n",
    "# create the transform\n",
    "vectorizer = TfidfVectorizer(analyzer='word', binary=False, decode_error='strict',\n",
    "dtype=np.float64, encoding='utf-8',\n",
    "input='content', lowercase=True, max_df=1.0, max_features=None,\n",
    "min_df=1, ngram_range=(1, 1), norm='l2', preprocessor=None,\n",
    "smooth_idf=True, stop_words=None, strip_accents=None,\n",
    "sublinear_tf=False, token_pattern='(?u)\\\\b\\\\w\\\\w+\\\\b',\n",
    "tokenizer=None, use_idf=True, vocabulary=None)\n",
    "# tokenize and build vocab\n",
    "vectorizer.fit(text)\n",
    "idf = vectorizer.idf_\n",
    "# summarize\n",
    "print(vectorizer.vocabulary_)\n",
    "print(vectorizer.idf_)\n",
    "#get  Feature name \n",
    "print(dict(zip(vectorizer.get_feature_names(), idf)))\n",
    "# encode document\n",
    "vector = vectorizer.transform([text[0]])\n",
    "# summarize encoded vector\n",
    "print(vector.shape)\n",
    "print(vector.toarray())"
   ]
  },
  {
   "cell_type": "code",
   "execution_count": 11,
   "metadata": {},
   "outputs": [
    {
     "name": "stdout",
     "output_type": "stream",
     "text": [
      "Collecting TextBlob\n",
      "  Downloading textblob-0.17.1-py2.py3-none-any.whl (636 kB)\n",
      "Requirement already satisfied: nltk>=3.1; python_version >= \"3\" in d:\\programs\\anaconda3\\lib\\site-packages (from TextBlob) (3.5)\n",
      "Requirement already satisfied: joblib in d:\\programs\\anaconda3\\lib\\site-packages (from nltk>=3.1; python_version >= \"3\"->TextBlob) (0.17.0)\n",
      "Requirement already satisfied: click in d:\\programs\\anaconda3\\lib\\site-packages (from nltk>=3.1; python_version >= \"3\"->TextBlob) (7.1.2)\n",
      "Requirement already satisfied: tqdm in d:\\programs\\anaconda3\\lib\\site-packages (from nltk>=3.1; python_version >= \"3\"->TextBlob) (4.50.2)\n",
      "Requirement already satisfied: regex in d:\\programs\\anaconda3\\lib\\site-packages (from nltk>=3.1; python_version >= \"3\"->TextBlob) (2020.10.15)\n",
      "Installing collected packages: TextBlob\n",
      "Successfully installed TextBlob-0.17.1\n"
     ]
    },
    {
     "ename": "ValueError",
     "evalue": "tokenizer must be an instance of BaseTokenizer",
     "output_type": "error",
     "traceback": [
      "\u001b[1;31m---------------------------------------------------------------------------\u001b[0m",
      "\u001b[1;31mValueError\u001b[0m                                Traceback (most recent call last)",
      "\u001b[1;32m<ipython-input-11-626802e76679>\u001b[0m in \u001b[0;36m<module>\u001b[1;34m\u001b[0m\n\u001b[0;32m      1\u001b[0m \u001b[0mget_ipython\u001b[0m\u001b[1;33m(\u001b[0m\u001b[1;33m)\u001b[0m\u001b[1;33m.\u001b[0m\u001b[0msystem\u001b[0m\u001b[1;33m(\u001b[0m\u001b[1;34m'pip install TextBlob'\u001b[0m\u001b[1;33m)\u001b[0m\u001b[1;33m\u001b[0m\u001b[1;33m\u001b[0m\u001b[0m\n\u001b[0;32m      2\u001b[0m \u001b[1;32mfrom\u001b[0m \u001b[0mtextblob\u001b[0m \u001b[1;32mimport\u001b[0m \u001b[0mTextBlob\u001b[0m\u001b[1;33m\u001b[0m\u001b[1;33m\u001b[0m\u001b[0m\n\u001b[1;32m----> 3\u001b[1;33m text=TextBlob('This is the first stage of qualification'\n\u001b[0m\u001b[0;32m      4\u001b[0m \u001b[1;33m,\u001b[0m \u001b[1;34m'This is the second stage of qualification '\u001b[0m\u001b[1;33m\u001b[0m\u001b[1;33m\u001b[0m\u001b[0m\n\u001b[0;32m      5\u001b[0m \u001b[1;33m,\u001b[0m \u001b[1;34m'And the third one'\u001b[0m\u001b[1;33m\u001b[0m\u001b[1;33m\u001b[0m\u001b[0m\n",
      "\u001b[1;32mD:\\Programs\\Anaconda3\\lib\\site-packages\\textblob\\blob.py\u001b[0m in \u001b[0;36m__init__\u001b[1;34m(self, text, tokenizer, pos_tagger, np_extractor, analyzer, parser, classifier, clean_html)\u001b[0m\n\u001b[0;32m    390\u001b[0m         \u001b[0mself\u001b[0m\u001b[1;33m.\u001b[0m\u001b[0mraw\u001b[0m \u001b[1;33m=\u001b[0m \u001b[0mself\u001b[0m\u001b[1;33m.\u001b[0m\u001b[0mstring\u001b[0m \u001b[1;33m=\u001b[0m \u001b[0mtext\u001b[0m\u001b[1;33m\u001b[0m\u001b[1;33m\u001b[0m\u001b[0m\n\u001b[0;32m    391\u001b[0m         \u001b[0mself\u001b[0m\u001b[1;33m.\u001b[0m\u001b[0mstripped\u001b[0m \u001b[1;33m=\u001b[0m \u001b[0mlowerstrip\u001b[0m\u001b[1;33m(\u001b[0m\u001b[0mself\u001b[0m\u001b[1;33m.\u001b[0m\u001b[0mraw\u001b[0m\u001b[1;33m,\u001b[0m \u001b[0mall\u001b[0m\u001b[1;33m=\u001b[0m\u001b[1;32mTrue\u001b[0m\u001b[1;33m)\u001b[0m\u001b[1;33m\u001b[0m\u001b[1;33m\u001b[0m\u001b[0m\n\u001b[1;32m--> 392\u001b[1;33m         _initialize_models(self, tokenizer, pos_tagger, np_extractor, analyzer,\n\u001b[0m\u001b[0;32m    393\u001b[0m                            parser, classifier)\n\u001b[0;32m    394\u001b[0m \u001b[1;33m\u001b[0m\u001b[0m\n",
      "\u001b[1;32mD:\\Programs\\Anaconda3\\lib\\site-packages\\textblob\\blob.py\u001b[0m in \u001b[0;36m_initialize_models\u001b[1;34m(obj, tokenizer, pos_tagger, np_extractor, analyzer, parser, classifier)\u001b[0m\n\u001b[0;32m    335\u001b[0m     \u001b[1;34m\"\"\"Common initialization between BaseBlob and Blobber classes.\"\"\"\u001b[0m\u001b[1;33m\u001b[0m\u001b[1;33m\u001b[0m\u001b[0m\n\u001b[0;32m    336\u001b[0m     \u001b[1;31m# tokenizer may be a textblob or an NLTK tokenizer\u001b[0m\u001b[1;33m\u001b[0m\u001b[1;33m\u001b[0m\u001b[1;33m\u001b[0m\u001b[0m\n\u001b[1;32m--> 337\u001b[1;33m     obj.tokenizer = _validated_param(tokenizer, \"tokenizer\",\n\u001b[0m\u001b[0;32m    338\u001b[0m                                     \u001b[0mbase_class\u001b[0m\u001b[1;33m=\u001b[0m\u001b[1;33m(\u001b[0m\u001b[0mBaseTokenizer\u001b[0m\u001b[1;33m,\u001b[0m \u001b[0mnltk\u001b[0m\u001b[1;33m.\u001b[0m\u001b[0mtokenize\u001b[0m\u001b[1;33m.\u001b[0m\u001b[0mapi\u001b[0m\u001b[1;33m.\u001b[0m\u001b[0mTokenizerI\u001b[0m\u001b[1;33m)\u001b[0m\u001b[1;33m,\u001b[0m\u001b[1;33m\u001b[0m\u001b[1;33m\u001b[0m\u001b[0m\n\u001b[0;32m    339\u001b[0m                                     \u001b[0mdefault\u001b[0m\u001b[1;33m=\u001b[0m\u001b[0mBaseBlob\u001b[0m\u001b[1;33m.\u001b[0m\u001b[0mtokenizer\u001b[0m\u001b[1;33m,\u001b[0m\u001b[1;33m\u001b[0m\u001b[1;33m\u001b[0m\u001b[0m\n",
      "\u001b[1;32mD:\\Programs\\Anaconda3\\lib\\site-packages\\textblob\\blob.py\u001b[0m in \u001b[0;36m_validated_param\u001b[1;34m(obj, name, base_class, default, base_class_name)\u001b[0m\n\u001b[0;32m    326\u001b[0m     \u001b[0mbase_class_name\u001b[0m \u001b[1;33m=\u001b[0m \u001b[0mbase_class_name\u001b[0m \u001b[1;32mif\u001b[0m \u001b[0mbase_class_name\u001b[0m \u001b[1;32melse\u001b[0m \u001b[0mbase_class\u001b[0m\u001b[1;33m.\u001b[0m\u001b[0m__name__\u001b[0m\u001b[1;33m\u001b[0m\u001b[1;33m\u001b[0m\u001b[0m\n\u001b[0;32m    327\u001b[0m     \u001b[1;32mif\u001b[0m \u001b[0mobj\u001b[0m \u001b[1;32mis\u001b[0m \u001b[1;32mnot\u001b[0m \u001b[1;32mNone\u001b[0m \u001b[1;32mand\u001b[0m \u001b[1;32mnot\u001b[0m \u001b[0misinstance\u001b[0m\u001b[1;33m(\u001b[0m\u001b[0mobj\u001b[0m\u001b[1;33m,\u001b[0m \u001b[0mbase_class\u001b[0m\u001b[1;33m)\u001b[0m\u001b[1;33m:\u001b[0m\u001b[1;33m\u001b[0m\u001b[1;33m\u001b[0m\u001b[0m\n\u001b[1;32m--> 328\u001b[1;33m         raise ValueError('{name} must be an instance of {cls}'\n\u001b[0m\u001b[0;32m    329\u001b[0m                          .format(name=name, cls=base_class_name))\n\u001b[0;32m    330\u001b[0m     \u001b[1;32mreturn\u001b[0m \u001b[0mobj\u001b[0m \u001b[1;32mor\u001b[0m \u001b[0mdefault\u001b[0m\u001b[1;33m\u001b[0m\u001b[1;33m\u001b[0m\u001b[0m\n",
      "\u001b[1;31mValueError\u001b[0m: tokenizer must be an instance of BaseTokenizer"
     ]
    }
   ],
   "source": [
    "!pip install TextBlob\n",
    "from textblob import TextBlob\n",
    "text=TextBlob('This is the first stage of qualification'\n",
    ", 'This is the second stage of qualification '\n",
    ", 'And the third one'\n",
    ", 'Is it the first stage again')\n",
    "print(text.sentiment)"
   ]
  },
  {
   "cell_type": "code",
   "execution_count": null,
   "metadata": {},
   "outputs": [],
   "source": [
    "!pip install vaderSentiment\n",
    "from vaderSentiment.vaderSentiment import SentimentIntensityAnalyzer\n",
    "text=SentimentIntensityAnalyzer()\n",
    "score=text.polarity_scores('This is the first stage of qualification'\n",
    ", 'This is the second stage of qualification '\n",
    ", 'And the third one'\n",
    ", 'Is it the first stage again')\n",
    "print(score)\n"
   ]
  }
 ],
 "metadata": {
  "kernelspec": {
   "display_name": "Python 3",
   "language": "python",
   "name": "python3"
  },
  "language_info": {
   "codemirror_mode": {
    "name": "ipython",
    "version": 3
   },
   "file_extension": ".py",
   "mimetype": "text/x-python",
   "name": "python",
   "nbconvert_exporter": "python",
   "pygments_lexer": "ipython3",
   "version": "3.8.5"
  }
 },
 "nbformat": 4,
 "nbformat_minor": 2
}
